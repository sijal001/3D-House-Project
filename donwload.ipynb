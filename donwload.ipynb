{
 "cells": [
  {
   "cell_type": "markdown",
   "id": "macro-memory",
   "metadata": {},
   "source": [
    "# Import Libaries"
   ]
  },
  {
   "cell_type": "code",
   "execution_count": 6,
   "id": "historic-biodiversity",
   "metadata": {},
   "outputs": [],
   "source": [
    "import pandas as pd\n",
    "import numpy as np\n",
    "from urllib.request import urlopen\n",
    "import urllib.request\n",
    "\n",
    "from zipfile import ZipFile\n",
    "from io import BytesIO\n",
    "import os, zipfile"
   ]
  },
  {
   "cell_type": "markdown",
   "id": "floating-logistics",
   "metadata": {},
   "source": [
    "# Important Address URLS"
   ]
  },
  {
   "cell_type": "code",
   "execution_count": 7,
   "id": "sublime-oxide",
   "metadata": {},
   "outputs": [],
   "source": [
    "Fla_csv = \"https://opendata.bosa.be/download/best/openaddress-bevlg.zip\"\n",
    "Bru_csv = \"https://opendata.bosa.be/download/best/openaddress-bebru.zip\"\n",
    "Wal_csv = \"https://opendata.bosa.be/download/best/openaddress-bewal.zip\""
   ]
  },
  {
   "cell_type": "markdown",
   "id": "focused-effectiveness",
   "metadata": {},
   "source": [
    "# Download and Unzip files"
   ]
  },
  {
   "cell_type": "code",
   "execution_count": 8,
   "id": "exceptional-banana",
   "metadata": {},
   "outputs": [],
   "source": [
    "csv_urls = [Fla_csv, Bru_csv, Wal_csv]\n",
    "file_names= [\"Fla_csv\", \"Bru_csv\", \"Wal_csv\"]\n",
    "\n",
    "# If address data folder not present in dir create it.\n",
    "if not os.path.exists('address data'):\n",
    "    os.makedirs('address data')\n",
    "    \n",
    "    # start downloading data from urls\n",
    "    print('Beginning file download with urllib2...')\n",
    "\n",
    "    for url, file_name in zip(csv_urls,file_names):\n",
    "        urllib.request.urlretrieve(url, f'./address data/{file_name}.zip')\n",
    "    \n",
    "    # Unzip and remove move zip files\n",
    "    dir_name = os.getcwd()+\"\\\\address data\"\n",
    "    extension = \".zip\"\n",
    "\n",
    "    os.chdir(dir_name) # change directory from working dir to dir with files\n",
    "\n",
    "    for item in os.listdir(dir_name): # loop through items in dir\n",
    "        if item.endswith(extension): # check for \".zip\" extension\n",
    "            file_name = os.path.abspath(item) # get full path of files\n",
    "            zip_ref = zipfile.ZipFile(file_name) # create zipfile object\n",
    "            zip_ref.extractall(dir_name) # extract file to dir\n",
    "            zip_ref.close() # close file\n",
    "            os.remove(file_name) # delete zipped file\n",
    "else:\n",
    "    dir_name = os.getcwd()+\"\\\\address data\"\n",
    "    os.chdir(dir_name)"
   ]
  },
  {
   "cell_type": "markdown",
   "id": "sudden-impact",
   "metadata": {},
   "source": [
    "# Generate Dataframe"
   ]
  },
  {
   "cell_type": "code",
   "execution_count": 9,
   "id": "parental-galaxy",
   "metadata": {},
   "outputs": [
    {
     "name": "stderr",
     "output_type": "stream",
     "text": [
      "C:\\Users\\sijal\\anaconda3\\envs\\3d_house\\lib\\site-packages\\IPython\\core\\interactiveshell.py:3155: DtypeWarning: Columns (5,8,9,12,16) have mixed types.Specify dtype option on import or set low_memory=False.\n",
      "  has_raised = await self.run_ast_nodes(code_ast.body, cell_name,\n",
      "C:\\Users\\sijal\\anaconda3\\envs\\3d_house\\lib\\site-packages\\IPython\\core\\interactiveshell.py:3155: DtypeWarning: Columns (5) have mixed types.Specify dtype option on import or set low_memory=False.\n",
      "  has_raised = await self.run_ast_nodes(code_ast.body, cell_name,\n",
      "C:\\Users\\sijal\\anaconda3\\envs\\3d_house\\lib\\site-packages\\IPython\\core\\interactiveshell.py:3155: DtypeWarning: Columns (5,8,15) have mixed types.Specify dtype option on import or set low_memory=False.\n",
      "  has_raised = await self.run_ast_nodes(code_ast.body, cell_name,\n"
     ]
    }
   ],
   "source": [
    "df_fla = pd.read_csv('openaddress-bevlg.csv')\n",
    "df_bru = pd.read_csv('openaddress-bebru.csv')\n",
    "df_wal = pd.read_csv('openaddress-bewal.csv')"
   ]
  },
  {
   "cell_type": "markdown",
   "id": "adapted-jumping",
   "metadata": {},
   "source": [
    "# Function to get the Full Address\n",
    "---\n",
    "#### *** Important note ***: Walloonia and Brussels  address are mostly in French 'fr' and as for Flemish it's in Dutch 'nl'\n",
    "---\n",
    "* convert postcode integer to string.\n",
    "* combine streetname, house no. postcode, municipality name\n",
    "* getting cordination and XY values \n",
    "* drop any dublicates\n",
    "* Filter any row where XY value is zero"
   ]
  },
  {
   "cell_type": "code",
   "execution_count": 10,
   "id": "minimal-hampton",
   "metadata": {},
   "outputs": [],
   "source": [
    "def get_address(df,lan='fr'):\n",
    "    indiv_df = df\n",
    "    indiv_df['postcode'] = indiv_df['postcode'].astype('str')\n",
    "    indiv_df[\"Address\"] = indiv_df[f\"streetname_{lan}\"] + \" \" + indiv_df[\"house_number\"] + \" \" + indiv_df['postcode'] + \" \" +  indiv_df[f'municipality_name_{lan}']\n",
    "    indiv_df_address =  indiv_df[['Address', 'EPSG:31370_x','EPSG:31370_y', 'EPSG:4326_lat','EPSG:4326_lon','region_code']]\n",
    "    indiv_df_address.drop_duplicates(subset='Address', keep=\"first\", inplace=True)\n",
    "    filter_loc = (indiv_df_address['EPSG:31370_x'] != 0.0000) | (indiv_df_address['EPSG:31370_y'] != 0.0000)\n",
    "    indiv_df_address = indiv_df_address[filter_loc]\n",
    "    indiv_df_address.reset_index(drop=True,inplace=True)\n",
    "    return indiv_df_address"
   ]
  },
  {
   "cell_type": "markdown",
   "id": "featured-designer",
   "metadata": {},
   "source": [
    "# Individual Datafram of every regions "
   ]
  },
  {
   "cell_type": "code",
   "execution_count": 11,
   "id": "hollywood-simpson",
   "metadata": {},
   "outputs": [
    {
     "name": "stderr",
     "output_type": "stream",
     "text": [
      "<ipython-input-10-e1771fc87ee8>:6: SettingWithCopyWarning: \n",
      "A value is trying to be set on a copy of a slice from a DataFrame\n",
      "\n",
      "See the caveats in the documentation: https://pandas.pydata.org/pandas-docs/stable/user_guide/indexing.html#returning-a-view-versus-a-copy\n",
      "  indiv_df_address.drop_duplicates(subset='Address', keep=\"first\", inplace=True)\n",
      "<ipython-input-10-e1771fc87ee8>:6: SettingWithCopyWarning: \n",
      "A value is trying to be set on a copy of a slice from a DataFrame\n",
      "\n",
      "See the caveats in the documentation: https://pandas.pydata.org/pandas-docs/stable/user_guide/indexing.html#returning-a-view-versus-a-copy\n",
      "  indiv_df_address.drop_duplicates(subset='Address', keep=\"first\", inplace=True)\n",
      "<ipython-input-10-e1771fc87ee8>:6: SettingWithCopyWarning: \n",
      "A value is trying to be set on a copy of a slice from a DataFrame\n",
      "\n",
      "See the caveats in the documentation: https://pandas.pydata.org/pandas-docs/stable/user_guide/indexing.html#returning-a-view-versus-a-copy\n",
      "  indiv_df_address.drop_duplicates(subset='Address', keep=\"first\", inplace=True)\n"
     ]
    }
   ],
   "source": [
    "df_fla_address = get_address(df_fla,\"nl\")\n",
    "df_bru_address = get_address(df_bru)\n",
    "df_wal_address = get_address(df_wal)"
   ]
  },
  {
   "cell_type": "markdown",
   "id": "sorted-council",
   "metadata": {},
   "source": [
    "# Building a single dataframe of every region address and generate CSV file"
   ]
  },
  {
   "cell_type": "code",
   "execution_count": 12,
   "id": "mature-gossip",
   "metadata": {},
   "outputs": [],
   "source": [
    "df_BE_address = pd.concat([df_fla_address , df_bru_address , df_wal_address],ignore_index=True)\n",
    "df_BE_address.head()\n",
    "df_BE_address.to_csv('Belgium_Address.csv')"
   ]
  },
  {
   "cell_type": "code",
   "execution_count": 13,
   "id": "quiet-heater",
   "metadata": {},
   "outputs": [
    {
     "data": {
      "text/html": [
       "<div>\n",
       "<style scoped>\n",
       "    .dataframe tbody tr th:only-of-type {\n",
       "        vertical-align: middle;\n",
       "    }\n",
       "\n",
       "    .dataframe tbody tr th {\n",
       "        vertical-align: top;\n",
       "    }\n",
       "\n",
       "    .dataframe thead th {\n",
       "        text-align: right;\n",
       "    }\n",
       "</style>\n",
       "<table border=\"1\" class=\"dataframe\">\n",
       "  <thead>\n",
       "    <tr style=\"text-align: right;\">\n",
       "      <th></th>\n",
       "      <th>Address</th>\n",
       "      <th>EPSG:31370_x</th>\n",
       "      <th>EPSG:31370_y</th>\n",
       "      <th>EPSG:4326_lat</th>\n",
       "      <th>EPSG:4326_lon</th>\n",
       "      <th>region_code</th>\n",
       "    </tr>\n",
       "  </thead>\n",
       "  <tbody>\n",
       "    <tr>\n",
       "      <th>0</th>\n",
       "      <td>Steenweg op Oosthoven 51 2300 Turnhout</td>\n",
       "      <td>190710.56</td>\n",
       "      <td>224659.47</td>\n",
       "      <td>51.330292</td>\n",
       "      <td>4.952837</td>\n",
       "      <td>BE-VLG</td>\n",
       "    </tr>\n",
       "    <tr>\n",
       "      <th>1</th>\n",
       "      <td>Duivenstraat 102 2800 Mechelen</td>\n",
       "      <td>158832.72</td>\n",
       "      <td>192858.98</td>\n",
       "      <td>51.045828</td>\n",
       "      <td>4.494708</td>\n",
       "      <td>BE-VLG</td>\n",
       "    </tr>\n",
       "    <tr>\n",
       "      <th>2</th>\n",
       "      <td>Meersstraat 7 9185 Wachtebeke</td>\n",
       "      <td>114333.83</td>\n",
       "      <td>206615.16</td>\n",
       "      <td>51.168450</td>\n",
       "      <td>3.858827</td>\n",
       "      <td>BE-VLG</td>\n",
       "    </tr>\n",
       "    <tr>\n",
       "      <th>3</th>\n",
       "      <td>Nijverheidsstraat 67 9890 Gavere</td>\n",
       "      <td>101669.12</td>\n",
       "      <td>179169.21</td>\n",
       "      <td>50.920830</td>\n",
       "      <td>3.681393</td>\n",
       "      <td>BE-VLG</td>\n",
       "    </tr>\n",
       "    <tr>\n",
       "      <th>4</th>\n",
       "      <td>Klaverstraat 1A 9000 Gent</td>\n",
       "      <td>103887.16</td>\n",
       "      <td>195997.07</td>\n",
       "      <td>51.072272</td>\n",
       "      <td>3.710818</td>\n",
       "      <td>BE-VLG</td>\n",
       "    </tr>\n",
       "  </tbody>\n",
       "</table>\n",
       "</div>"
      ],
      "text/plain": [
       "                                  Address  EPSG:31370_x  EPSG:31370_y  \\\n",
       "0  Steenweg op Oosthoven 51 2300 Turnhout     190710.56     224659.47   \n",
       "1          Duivenstraat 102 2800 Mechelen     158832.72     192858.98   \n",
       "2           Meersstraat 7 9185 Wachtebeke     114333.83     206615.16   \n",
       "3        Nijverheidsstraat 67 9890 Gavere     101669.12     179169.21   \n",
       "4               Klaverstraat 1A 9000 Gent     103887.16     195997.07   \n",
       "\n",
       "   EPSG:4326_lat  EPSG:4326_lon region_code  \n",
       "0      51.330292       4.952837      BE-VLG  \n",
       "1      51.045828       4.494708      BE-VLG  \n",
       "2      51.168450       3.858827      BE-VLG  \n",
       "3      50.920830       3.681393      BE-VLG  \n",
       "4      51.072272       3.710818      BE-VLG  "
      ]
     },
     "execution_count": 13,
     "metadata": {},
     "output_type": "execute_result"
    }
   ],
   "source": [
    "df_BE_address.head()"
   ]
  },
  {
   "cell_type": "markdown",
   "id": "entire-passing",
   "metadata": {},
   "source": [
    "## Searching for an address\n",
    "---\n",
    "* Print Longitute, Latitute, XY value of address if avaliable"
   ]
  },
  {
   "cell_type": "code",
   "execution_count": 18,
   "id": "short-wednesday",
   "metadata": {},
   "outputs": [
    {
     "name": "stdout",
     "output_type": "stream",
     "text": [
      "Street name, House Number, Postcode, Muncipality \n",
      "\n",
      "Enter address :Bosuil 130 2100 Antwerpen\n",
      "\n",
      " Processing!!!!! \n",
      "\n",
      "EPSG:4326 (Geo Format) \n",
      "Latitude: 51.22773206349728 \n",
      "Longitude: 4.465047290975518\n",
      "\n",
      "EPSG:31370 (Bel Format) \n",
      "x value: 156726.29 \n",
      "y value: 213092.83\n"
     ]
    }
   ],
   "source": [
    "search_adrs = input(\"Street name, House Number, Postcode, Muncipality \\n\\nEnter address :\")\n",
    "\n",
    "print(\"\\n Processing!!!!! \\n\")\n",
    "\n",
    "# get the index number of the search address\n",
    "index = []\n",
    "\n",
    "for i in range(df_BE_address.shape[0]):\n",
    "\n",
    "    if df_BE_address['Address'][i].lower() == search_adrs.lower():\n",
    "        index.append(i)\n",
    "        break\n",
    "    continue\n",
    "\n",
    "try:\n",
    "    x_y_value = df_BE_address['EPSG:31370_x'][index][index[0]] ,df_BE_address['EPSG:31370_y'][index][index[0]] \n",
    "    lat_lon = df_BE_address['EPSG:4326_lat'][index][index[0]] ,df_BE_address['EPSG:4326_lon'][index][index[0]] \n",
    "\n",
    "    print(f\"EPSG:4326 (Geo Format) \\nLatitude: {lat_lon[0]} \\nLongitude: {lat_lon[1]}\")\n",
    "    print()\n",
    "    print(f\"EPSG:31370 (Bel Format) \\nx value: {x_y_value[0]} \\ny value: {x_y_value[1]}\")\n",
    "\n",
    "except:\n",
    "    print(\"Unexpected Error:  Adress not found!!  Please provide valid Address\")"
   ]
  },
  {
   "cell_type": "code",
   "execution_count": 10,
   "id": "determined-differential",
   "metadata": {},
   "outputs": [],
   "source": [
    "import pandas as pd \n",
    "import folium"
   ]
  },
  {
   "cell_type": "markdown",
   "id": "premier-brisbane",
   "metadata": {},
   "source": [
    "## Function to create Map Location using CSV - - (Optional)\n",
    "---\n",
    "### Alternative for the Geopy method"
   ]
  },
  {
   "cell_type": "code",
   "execution_count": 11,
   "id": "relevant-perspective",
   "metadata": {},
   "outputs": [],
   "source": [
    "def csv_coordinate(search_address):\n",
    "    \n",
    "    index = []\n",
    "    \n",
    "    df = pd.read_csv(r\"./address data/Belgium_Address.csv\")\n",
    "    \n",
    "    for i in range(len(df)):\n",
    "\n",
    "        if df['Address'][i] == search_address :\n",
    "            index.append(i)\n",
    "            break\n",
    "        continue\n",
    "\n",
    "    x, y = df['EPSG:31370_x'][index][index[0]] ,df['EPSG:31370_y'][index][index[0]] \n",
    "\n",
    "    lat, lon = df['EPSG:4326_lat'][index][index[0]] ,df['EPSG:4326_lon'][index][index[0]] \n",
    "    \n",
    "    return (x, y) , (lat, lon)\n",
    "\n",
    "def house_locate(func):\n",
    "    \n",
    "    # to plot address \n",
    "\n",
    "    house_locate = folium.Map(location=func,zoom_start=18)\n",
    "    folium.Marker(location=func,\n",
    "                  popup=list(func), \n",
    "                  icon=folium.Icon(color='green', icon='location-arrow', prefix='fa')  # Customize Icon\n",
    "                 ).add_to(house_locate)\n",
    "    #house_locate.save(address+\".html\")\n",
    "    return house_locate"
   ]
  },
  {
   "cell_type": "code",
   "execution_count": 12,
   "id": "considerable-metropolitan",
   "metadata": {
    "scrolled": true
   },
   "outputs": [
    {
     "name": "stdout",
     "output_type": "stream",
     "text": [
      "(156726.29, 213092.83) (51.22773206349728, 4.465047290975518)\n"
     ]
    },
    {
     "data": {
      "text/html": [
       "<div style=\"width:100%;\"><div style=\"position:relative;width:100%;height:0;padding-bottom:60%;\"><span style=\"color:#565656\">Make this Notebook Trusted to load map: File -> Trust Notebook</span><iframe src=\"about:blank\" style=\"position:absolute;width:100%;height:100%;left:0;top:0;border:none !important;\" data-html=%3C%21DOCTYPE%20html%3E%0A%3Chead%3E%20%20%20%20%0A%20%20%20%20%3Cmeta%20http-equiv%3D%22content-type%22%20content%3D%22text/html%3B%20charset%3DUTF-8%22%20/%3E%0A%20%20%20%20%0A%20%20%20%20%20%20%20%20%3Cscript%3E%0A%20%20%20%20%20%20%20%20%20%20%20%20L_NO_TOUCH%20%3D%20false%3B%0A%20%20%20%20%20%20%20%20%20%20%20%20L_DISABLE_3D%20%3D%20false%3B%0A%20%20%20%20%20%20%20%20%3C/script%3E%0A%20%20%20%20%0A%20%20%20%20%3Cstyle%3Ehtml%2C%20body%20%7Bwidth%3A%20100%25%3Bheight%3A%20100%25%3Bmargin%3A%200%3Bpadding%3A%200%3B%7D%3C/style%3E%0A%20%20%20%20%3Cstyle%3E%23map%20%7Bposition%3Aabsolute%3Btop%3A0%3Bbottom%3A0%3Bright%3A0%3Bleft%3A0%3B%7D%3C/style%3E%0A%20%20%20%20%3Cscript%20src%3D%22https%3A//cdn.jsdelivr.net/npm/leaflet%401.6.0/dist/leaflet.js%22%3E%3C/script%3E%0A%20%20%20%20%3Cscript%20src%3D%22https%3A//code.jquery.com/jquery-1.12.4.min.js%22%3E%3C/script%3E%0A%20%20%20%20%3Cscript%20src%3D%22https%3A//maxcdn.bootstrapcdn.com/bootstrap/3.2.0/js/bootstrap.min.js%22%3E%3C/script%3E%0A%20%20%20%20%3Cscript%20src%3D%22https%3A//cdnjs.cloudflare.com/ajax/libs/Leaflet.awesome-markers/2.0.2/leaflet.awesome-markers.js%22%3E%3C/script%3E%0A%20%20%20%20%3Clink%20rel%3D%22stylesheet%22%20href%3D%22https%3A//cdn.jsdelivr.net/npm/leaflet%401.6.0/dist/leaflet.css%22/%3E%0A%20%20%20%20%3Clink%20rel%3D%22stylesheet%22%20href%3D%22https%3A//maxcdn.bootstrapcdn.com/bootstrap/3.2.0/css/bootstrap.min.css%22/%3E%0A%20%20%20%20%3Clink%20rel%3D%22stylesheet%22%20href%3D%22https%3A//maxcdn.bootstrapcdn.com/bootstrap/3.2.0/css/bootstrap-theme.min.css%22/%3E%0A%20%20%20%20%3Clink%20rel%3D%22stylesheet%22%20href%3D%22https%3A//maxcdn.bootstrapcdn.com/font-awesome/4.6.3/css/font-awesome.min.css%22/%3E%0A%20%20%20%20%3Clink%20rel%3D%22stylesheet%22%20href%3D%22https%3A//cdnjs.cloudflare.com/ajax/libs/Leaflet.awesome-markers/2.0.2/leaflet.awesome-markers.css%22/%3E%0A%20%20%20%20%3Clink%20rel%3D%22stylesheet%22%20href%3D%22https%3A//cdn.jsdelivr.net/gh/python-visualization/folium/folium/templates/leaflet.awesome.rotate.min.css%22/%3E%0A%20%20%20%20%0A%20%20%20%20%20%20%20%20%20%20%20%20%3Cmeta%20name%3D%22viewport%22%20content%3D%22width%3Ddevice-width%2C%0A%20%20%20%20%20%20%20%20%20%20%20%20%20%20%20%20initial-scale%3D1.0%2C%20maximum-scale%3D1.0%2C%20user-scalable%3Dno%22%20/%3E%0A%20%20%20%20%20%20%20%20%20%20%20%20%3Cstyle%3E%0A%20%20%20%20%20%20%20%20%20%20%20%20%20%20%20%20%23map_c6901c7e44bd4488bb48b614f02301f5%20%7B%0A%20%20%20%20%20%20%20%20%20%20%20%20%20%20%20%20%20%20%20%20position%3A%20relative%3B%0A%20%20%20%20%20%20%20%20%20%20%20%20%20%20%20%20%20%20%20%20width%3A%20100.0%25%3B%0A%20%20%20%20%20%20%20%20%20%20%20%20%20%20%20%20%20%20%20%20height%3A%20100.0%25%3B%0A%20%20%20%20%20%20%20%20%20%20%20%20%20%20%20%20%20%20%20%20left%3A%200.0%25%3B%0A%20%20%20%20%20%20%20%20%20%20%20%20%20%20%20%20%20%20%20%20top%3A%200.0%25%3B%0A%20%20%20%20%20%20%20%20%20%20%20%20%20%20%20%20%7D%0A%20%20%20%20%20%20%20%20%20%20%20%20%3C/style%3E%0A%20%20%20%20%20%20%20%20%0A%3C/head%3E%0A%3Cbody%3E%20%20%20%20%0A%20%20%20%20%0A%20%20%20%20%20%20%20%20%20%20%20%20%3Cdiv%20class%3D%22folium-map%22%20id%3D%22map_c6901c7e44bd4488bb48b614f02301f5%22%20%3E%3C/div%3E%0A%20%20%20%20%20%20%20%20%0A%3C/body%3E%0A%3Cscript%3E%20%20%20%20%0A%20%20%20%20%0A%20%20%20%20%20%20%20%20%20%20%20%20var%20map_c6901c7e44bd4488bb48b614f02301f5%20%3D%20L.map%28%0A%20%20%20%20%20%20%20%20%20%20%20%20%20%20%20%20%22map_c6901c7e44bd4488bb48b614f02301f5%22%2C%0A%20%20%20%20%20%20%20%20%20%20%20%20%20%20%20%20%7B%0A%20%20%20%20%20%20%20%20%20%20%20%20%20%20%20%20%20%20%20%20center%3A%20%5B51.22773206349728%2C%204.465047290975518%5D%2C%0A%20%20%20%20%20%20%20%20%20%20%20%20%20%20%20%20%20%20%20%20crs%3A%20L.CRS.EPSG3857%2C%0A%20%20%20%20%20%20%20%20%20%20%20%20%20%20%20%20%20%20%20%20zoom%3A%2018%2C%0A%20%20%20%20%20%20%20%20%20%20%20%20%20%20%20%20%20%20%20%20zoomControl%3A%20true%2C%0A%20%20%20%20%20%20%20%20%20%20%20%20%20%20%20%20%20%20%20%20preferCanvas%3A%20false%2C%0A%20%20%20%20%20%20%20%20%20%20%20%20%20%20%20%20%7D%0A%20%20%20%20%20%20%20%20%20%20%20%20%29%3B%0A%0A%20%20%20%20%20%20%20%20%20%20%20%20%0A%0A%20%20%20%20%20%20%20%20%0A%20%20%20%20%0A%20%20%20%20%20%20%20%20%20%20%20%20var%20tile_layer_d4a88973734047b4bb751a9c63814275%20%3D%20L.tileLayer%28%0A%20%20%20%20%20%20%20%20%20%20%20%20%20%20%20%20%22https%3A//%7Bs%7D.tile.openstreetmap.org/%7Bz%7D/%7Bx%7D/%7By%7D.png%22%2C%0A%20%20%20%20%20%20%20%20%20%20%20%20%20%20%20%20%7B%22attribution%22%3A%20%22Data%20by%20%5Cu0026copy%3B%20%5Cu003ca%20href%3D%5C%22http%3A//openstreetmap.org%5C%22%5Cu003eOpenStreetMap%5Cu003c/a%5Cu003e%2C%20under%20%5Cu003ca%20href%3D%5C%22http%3A//www.openstreetmap.org/copyright%5C%22%5Cu003eODbL%5Cu003c/a%5Cu003e.%22%2C%20%22detectRetina%22%3A%20false%2C%20%22maxNativeZoom%22%3A%2018%2C%20%22maxZoom%22%3A%2018%2C%20%22minZoom%22%3A%200%2C%20%22noWrap%22%3A%20false%2C%20%22opacity%22%3A%201%2C%20%22subdomains%22%3A%20%22abc%22%2C%20%22tms%22%3A%20false%7D%0A%20%20%20%20%20%20%20%20%20%20%20%20%29.addTo%28map_c6901c7e44bd4488bb48b614f02301f5%29%3B%0A%20%20%20%20%20%20%20%20%0A%20%20%20%20%0A%20%20%20%20%20%20%20%20%20%20%20%20var%20marker_aa1332ef01dd491097f9a4cc4493b7af%20%3D%20L.marker%28%0A%20%20%20%20%20%20%20%20%20%20%20%20%20%20%20%20%5B51.22773206349728%2C%204.465047290975518%5D%2C%0A%20%20%20%20%20%20%20%20%20%20%20%20%20%20%20%20%7B%7D%0A%20%20%20%20%20%20%20%20%20%20%20%20%29.addTo%28map_c6901c7e44bd4488bb48b614f02301f5%29%3B%0A%20%20%20%20%20%20%20%20%0A%20%20%20%20%0A%20%20%20%20%20%20%20%20%20%20%20%20var%20icon_37d36c6a8ab24903b2afe86f6daf59d4%20%3D%20L.AwesomeMarkers.icon%28%0A%20%20%20%20%20%20%20%20%20%20%20%20%20%20%20%20%7B%22extraClasses%22%3A%20%22fa-rotate-0%22%2C%20%22icon%22%3A%20%22location-arrow%22%2C%20%22iconColor%22%3A%20%22white%22%2C%20%22markerColor%22%3A%20%22green%22%2C%20%22prefix%22%3A%20%22fa%22%7D%0A%20%20%20%20%20%20%20%20%20%20%20%20%29%3B%0A%20%20%20%20%20%20%20%20%20%20%20%20marker_aa1332ef01dd491097f9a4cc4493b7af.setIcon%28icon_37d36c6a8ab24903b2afe86f6daf59d4%29%3B%0A%20%20%20%20%20%20%20%20%0A%20%20%20%20%0A%20%20%20%20%20%20%20%20var%20popup_cf34548c936140d1bb5446ee003c8473%20%3D%20L.popup%28%7B%22maxWidth%22%3A%20%22100%25%22%7D%29%3B%0A%0A%20%20%20%20%20%20%20%20%0A%20%20%20%20%20%20%20%20%20%20%20%20var%20html_c2510a53567c425b97572bf4ceac5fd2%20%3D%20%24%28%60%3Cdiv%20id%3D%22html_c2510a53567c425b97572bf4ceac5fd2%22%20style%3D%22width%3A%20100.0%25%3B%20height%3A%20100.0%25%3B%22%3E%5B51.22773206349728%2C%204.465047290975518%5D%3C/div%3E%60%29%5B0%5D%3B%0A%20%20%20%20%20%20%20%20%20%20%20%20popup_cf34548c936140d1bb5446ee003c8473.setContent%28html_c2510a53567c425b97572bf4ceac5fd2%29%3B%0A%20%20%20%20%20%20%20%20%0A%0A%20%20%20%20%20%20%20%20marker_aa1332ef01dd491097f9a4cc4493b7af.bindPopup%28popup_cf34548c936140d1bb5446ee003c8473%29%0A%20%20%20%20%20%20%20%20%3B%0A%0A%20%20%20%20%20%20%20%20%0A%20%20%20%20%0A%3C/script%3E onload=\"this.contentDocument.open();this.contentDocument.write(    decodeURIComponent(this.getAttribute('data-html')));this.contentDocument.close();\" allowfullscreen webkitallowfullscreen mozallowfullscreen></iframe></div></div>"
      ],
      "text/plain": [
       "<folium.folium.Map at 0x1dbae134520>"
      ]
     },
     "execution_count": 12,
     "metadata": {},
     "output_type": "execute_result"
    }
   ],
   "source": [
    "search_address = \"Bosuil 130 2100 Antwerpen\"\n",
    "\n",
    "(x, y) , (lat, lon) = csv_coordinate(search_address)\n",
    "print((x, y) , (lat, lon))\n",
    "house_locate((lat, lon))"
   ]
  }
 ],
 "metadata": {
  "kernelspec": {
   "display_name": "Python 3",
   "language": "python",
   "name": "python3"
  },
  "language_info": {
   "codemirror_mode": {
    "name": "ipython",
    "version": 3
   },
   "file_extension": ".py",
   "mimetype": "text/x-python",
   "name": "python",
   "nbconvert_exporter": "python",
   "pygments_lexer": "ipython3",
   "version": "3.8.0"
  }
 },
 "nbformat": 4,
 "nbformat_minor": 5
}
