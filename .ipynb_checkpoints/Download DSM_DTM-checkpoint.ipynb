{
 "cells": [
  {
   "cell_type": "markdown",
   "id": "editorial-secondary",
   "metadata": {},
   "source": [
    "### To-Do-List\n",
    "---\n",
    "1. create folder if not there.\n",
    "2. download only files that are not present\n",
    "3. download all files\n",
    "4. unzip folder and delete zip folders"
   ]
  }
 ],
 "metadata": {
  "kernelspec": {
   "display_name": "Python 3",
   "language": "python",
   "name": "python3"
  },
  "language_info": {
   "codemirror_mode": {
    "name": "ipython",
    "version": 3
   },
   "file_extension": ".py",
   "mimetype": "text/x-python",
   "name": "python",
   "nbconvert_exporter": "python",
   "pygments_lexer": "ipython3",
   "version": "3.8.0"
  }
 },
 "nbformat": 4,
 "nbformat_minor": 5
}
