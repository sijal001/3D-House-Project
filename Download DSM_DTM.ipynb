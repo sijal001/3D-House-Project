{
 "cells": [
  {
   "cell_type": "markdown",
   "id": "supreme-athletics",
   "metadata": {},
   "source": [
    "# Import Imporant Files"
   ]
  },
  {
   "cell_type": "code",
   "execution_count": null,
   "id": "textile-chemistry",
   "metadata": {},
   "outputs": [],
   "source": [
    "from urllib.request import urlopen\n",
    "import urllib.request\n",
    "\n",
    "from zipfile import ZipFile\n",
    "from io import BytesIO\n",
    "import os, zipfile"
   ]
  },
  {
   "cell_type": "markdown",
   "id": "inner-george",
   "metadata": {},
   "source": [
    "# Generate the Directory to save downloaded files "
   ]
  },
  {
   "cell_type": "code",
   "execution_count": null,
   "id": "aerial-webster",
   "metadata": {},
   "outputs": [],
   "source": [
    "surface_dir = [\"DSM\", \"DTM\"]\n",
    "\n",
    "# If dir not present creatre\n",
    "for dir_s in surface_dir:\n",
    "    if not os.path.exists(dir_s):\n",
    "        os.makedirs(dir_s)"
   ]
  },
  {
   "cell_type": "markdown",
   "id": "demonstrated-tonight",
   "metadata": {},
   "source": [
    "# Download, Unzip and Delete Zip files"
   ]
  },
  {
   "cell_type": "code",
   "execution_count": 3,
   "id": "sporting-brooklyn",
   "metadata": {
    "scrolled": true
   },
   "outputs": [
    {
     "ename": "NameError",
     "evalue": "name 'os' is not defined",
     "output_type": "error",
     "traceback": [
      "\u001b[1;31m---------------------------------------------------------------------------\u001b[0m",
      "\u001b[1;31mNameError\u001b[0m                                 Traceback (most recent call last)",
      "\u001b[1;32m<ipython-input-3-b68f0e8ddfdb>\u001b[0m in \u001b[0;36m<module>\u001b[1;34m\u001b[0m\n\u001b[0;32m      1\u001b[0m \u001b[1;32mfor\u001b[0m \u001b[0mi\u001b[0m \u001b[1;32min\u001b[0m \u001b[0mrange\u001b[0m\u001b[1;33m(\u001b[0m\u001b[1;36m2\u001b[0m\u001b[1;33m)\u001b[0m\u001b[1;33m:\u001b[0m\u001b[1;33m\u001b[0m\u001b[1;33m\u001b[0m\u001b[0m\n\u001b[0;32m      2\u001b[0m     \u001b[1;31m# list the files that are download to prevent redownload\u001b[0m\u001b[1;33m\u001b[0m\u001b[1;33m\u001b[0m\u001b[1;33m\u001b[0m\u001b[0m\n\u001b[1;32m----> 3\u001b[1;33m     \u001b[0mdownload_files\u001b[0m \u001b[1;33m=\u001b[0m \u001b[0mos\u001b[0m\u001b[1;33m.\u001b[0m\u001b[0mlistdir\u001b[0m\u001b[1;33m(\u001b[0m\u001b[0msurface_dir\u001b[0m\u001b[1;33m[\u001b[0m\u001b[0mi\u001b[0m\u001b[1;33m]\u001b[0m\u001b[1;33m)\u001b[0m\u001b[1;33m\u001b[0m\u001b[1;33m\u001b[0m\u001b[0m\n\u001b[0m\u001b[0;32m      4\u001b[0m     \u001b[0mdownload_files\u001b[0m \u001b[1;33m=\u001b[0m \u001b[1;33m[\u001b[0m\u001b[0mi\u001b[0m\u001b[1;33m[\u001b[0m\u001b[1;33m-\u001b[0m\u001b[1;36m3\u001b[0m\u001b[1;33m]\u001b[0m \u001b[1;32mfor\u001b[0m \u001b[0mi\u001b[0m \u001b[1;32min\u001b[0m \u001b[0mdownload_files\u001b[0m\u001b[1;33m]\u001b[0m\u001b[1;33m\u001b[0m\u001b[1;33m\u001b[0m\u001b[0m\n\u001b[0;32m      5\u001b[0m \u001b[1;33m\u001b[0m\u001b[0m\n",
      "\u001b[1;31mNameError\u001b[0m: name 'os' is not defined"
     ]
    }
   ],
   "source": [
    "for i in range(2):\n",
    "    # list the files that are download to prevent redownload\n",
    "    download_files = os.listdir(surface_dir[i])\n",
    "    download_files = [i[-3] for i in download_files]\n",
    "   \n",
    "    # list of files to download\n",
    "    file_no = ['0'+str(x) if len(str(x))==1 else str(x) for x in range(1,44) ]\n",
    "    \n",
    "    # recreate the list that are needed to download\n",
    "    for j in download_files:\n",
    "        if j in file_no:\n",
    "            file_no.remove(j)\n",
    "    \n",
    "    # figuring out what to download 'DSM' or 'DTM'\n",
    "    folder_name = surface_dir[i]\n",
    "    \n",
    "    \n",
    "    for number in file_no:\n",
    "        \n",
    "        if folder_name == \"DSM\":\n",
    "            url = f\"https://downloadagiv.blob.core.windows.net/dhm-vlaanderen-ii-dsm-raster-1m/DHMVIIDSMRAS1m_k{number}.zip\"\n",
    "        else:\n",
    "            url = f\"https://downloadagiv.blob.core.windows.net/dhm-vlaanderen-ii-dtm-raster-1m/DHMVIIDTMRAS1m_k{number}.zip\"\n",
    "        \n",
    "        file_name = url.split('/')[-1]\n",
    "        \n",
    "        # Downloading the files\n",
    "        urllib.request.urlretrieve(url, f'./{folder_name}/{file_name}')\n",
    "    \n",
    "    # Unzip and delete .zip files\n",
    "    for folder in surface_dir:\n",
    "        dir_name = os.getcwd()+f\"\\\\{folder}\"\n",
    "        extension = \".zip\"\n",
    "\n",
    "        for item in os.listdir(dir_name): # loop through items in dir\n",
    "            if item.endswith(extension): # check for \".zip\" extension\n",
    "                file_name = os.path.abspath(item) # get full path of files\n",
    "                zip_ref = zipfile.ZipFile(file_name) # create zipfile object\n",
    "                zip_ref.extractall(dir_name) # extract file to dir\n",
    "                zip_ref.close() # close file\n",
    "                os.remove(file_name) # delete zipped file"
   ]
  }
 ],
 "metadata": {
  "kernelspec": {
   "display_name": "Python 3",
   "language": "python",
   "name": "python3"
  },
  "language_info": {
   "codemirror_mode": {
    "name": "ipython",
    "version": 3
   },
   "file_extension": ".py",
   "mimetype": "text/x-python",
   "name": "python",
   "nbconvert_exporter": "python",
   "pygments_lexer": "ipython3",
   "version": "3.8.0"
  }
 },
 "nbformat": 4,
 "nbformat_minor": 5
}
